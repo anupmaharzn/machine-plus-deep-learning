{
 "cells": [
  {
   "cell_type": "code",
   "execution_count": 105,
   "metadata": {},
   "outputs": [],
   "source": [
    "#import statements\n",
    "\n",
    "import numpy as np \n",
    "import pandas as pd\n",
    "import matplotlib.pyplot as plt\n",
    "import seaborn as sns\n",
    "%matplotlib inline\n",
    "\n",
    "import random\n",
    "import pprint\n",
    "\n"
   ]
  },
  {
   "cell_type": "markdown",
   "metadata": {},
   "source": [
    "# load and prepare data"
   ]
  },
  {
   "cell_type": "code",
   "execution_count": 41,
   "metadata": {},
   "outputs": [
    {
     "data": {
      "text/html": [
       "<div>\n",
       "<style scoped>\n",
       "    .dataframe tbody tr th:only-of-type {\n",
       "        vertical-align: middle;\n",
       "    }\n",
       "\n",
       "    .dataframe tbody tr th {\n",
       "        vertical-align: top;\n",
       "    }\n",
       "\n",
       "    .dataframe thead th {\n",
       "        text-align: right;\n",
       "    }\n",
       "</style>\n",
       "<table border=\"1\" class=\"dataframe\">\n",
       "  <thead>\n",
       "    <tr style=\"text-align: right;\">\n",
       "      <th></th>\n",
       "      <th>sepal_length</th>\n",
       "      <th>sepal_width</th>\n",
       "      <th>petal_length</th>\n",
       "      <th>petal_width</th>\n",
       "      <th>label</th>\n",
       "    </tr>\n",
       "  </thead>\n",
       "  <tbody>\n",
       "    <tr>\n",
       "      <td>0</td>\n",
       "      <td>5.1</td>\n",
       "      <td>3.5</td>\n",
       "      <td>1.4</td>\n",
       "      <td>0.2</td>\n",
       "      <td>setosa</td>\n",
       "    </tr>\n",
       "    <tr>\n",
       "      <td>1</td>\n",
       "      <td>4.9</td>\n",
       "      <td>3.0</td>\n",
       "      <td>1.4</td>\n",
       "      <td>0.2</td>\n",
       "      <td>setosa</td>\n",
       "    </tr>\n",
       "    <tr>\n",
       "      <td>2</td>\n",
       "      <td>4.7</td>\n",
       "      <td>3.2</td>\n",
       "      <td>1.3</td>\n",
       "      <td>0.2</td>\n",
       "      <td>setosa</td>\n",
       "    </tr>\n",
       "    <tr>\n",
       "      <td>3</td>\n",
       "      <td>4.6</td>\n",
       "      <td>3.1</td>\n",
       "      <td>1.5</td>\n",
       "      <td>0.2</td>\n",
       "      <td>setosa</td>\n",
       "    </tr>\n",
       "    <tr>\n",
       "      <td>4</td>\n",
       "      <td>5.0</td>\n",
       "      <td>3.6</td>\n",
       "      <td>1.4</td>\n",
       "      <td>0.2</td>\n",
       "      <td>setosa</td>\n",
       "    </tr>\n",
       "  </tbody>\n",
       "</table>\n",
       "</div>"
      ],
      "text/plain": [
       "   sepal_length  sepal_width  petal_length  petal_width   label\n",
       "0           5.1          3.5           1.4          0.2  setosa\n",
       "1           4.9          3.0           1.4          0.2  setosa\n",
       "2           4.7          3.2           1.3          0.2  setosa\n",
       "3           4.6          3.1           1.5          0.2  setosa\n",
       "4           5.0          3.6           1.4          0.2  setosa"
      ]
     },
     "execution_count": 41,
     "metadata": {},
     "output_type": "execute_result"
    }
   ],
   "source": [
    "df = pd.read_csv(\"iris.csv\")\n",
    "\n",
    "df=df.rename(columns={\"species\":\"label\"})\n",
    "df.head()"
   ]
  },
  {
   "cell_type": "code",
   "execution_count": 42,
   "metadata": {},
   "outputs": [
    {
     "name": "stdout",
     "output_type": "stream",
     "text": [
      "<class 'pandas.core.frame.DataFrame'>\n",
      "RangeIndex: 150 entries, 0 to 149\n",
      "Data columns (total 5 columns):\n",
      "sepal_length    150 non-null float64\n",
      "sepal_width     150 non-null float64\n",
      "petal_length    150 non-null float64\n",
      "petal_width     150 non-null float64\n",
      "label           150 non-null object\n",
      "dtypes: float64(4), object(1)\n",
      "memory usage: 6.0+ KB\n"
     ]
    }
   ],
   "source": [
    "df.info()"
   ]
  },
  {
   "cell_type": "markdown",
   "metadata": {},
   "source": [
    "# Train_TEST_SPLIT\n",
    "\n"
   ]
  },
  {
   "cell_type": "code",
   "execution_count": 43,
   "metadata": {},
   "outputs": [],
   "source": [
    "def train_test_split(df,test_size):\n",
    "    \n",
    "    if isinstance(test_size,float):\n",
    "        test_size=round(test_size*len(df))\n",
    "        \n",
    "    indices=df.index.tolist()\n",
    "    test_indices=random.sample(population=indices,k=test_size)\n",
    "    test_df=df.loc[test_indices]\n",
    "    train_df=df.drop(test_indices)\n",
    "    \n",
    "    return train_df,test_df\n"
   ]
  },
  {
   "cell_type": "code",
   "execution_count": 44,
   "metadata": {},
   "outputs": [],
   "source": [
    "random.seed(0)\n",
    "train_df,test_df= train_test_split(df,test_size=20) "
   ]
  },
  {
   "cell_type": "code",
   "execution_count": 45,
   "metadata": {},
   "outputs": [
    {
     "data": {
      "text/html": [
       "<div>\n",
       "<style scoped>\n",
       "    .dataframe tbody tr th:only-of-type {\n",
       "        vertical-align: middle;\n",
       "    }\n",
       "\n",
       "    .dataframe tbody tr th {\n",
       "        vertical-align: top;\n",
       "    }\n",
       "\n",
       "    .dataframe thead th {\n",
       "        text-align: right;\n",
       "    }\n",
       "</style>\n",
       "<table border=\"1\" class=\"dataframe\">\n",
       "  <thead>\n",
       "    <tr style=\"text-align: right;\">\n",
       "      <th></th>\n",
       "      <th>sepal_length</th>\n",
       "      <th>sepal_width</th>\n",
       "      <th>petal_length</th>\n",
       "      <th>petal_width</th>\n",
       "      <th>label</th>\n",
       "    </tr>\n",
       "  </thead>\n",
       "  <tbody>\n",
       "    <tr>\n",
       "      <td>98</td>\n",
       "      <td>5.1</td>\n",
       "      <td>2.5</td>\n",
       "      <td>3.0</td>\n",
       "      <td>1.1</td>\n",
       "      <td>versicolor</td>\n",
       "    </tr>\n",
       "    <tr>\n",
       "      <td>107</td>\n",
       "      <td>7.3</td>\n",
       "      <td>2.9</td>\n",
       "      <td>6.3</td>\n",
       "      <td>1.8</td>\n",
       "      <td>virginica</td>\n",
       "    </tr>\n",
       "    <tr>\n",
       "      <td>10</td>\n",
       "      <td>5.4</td>\n",
       "      <td>3.7</td>\n",
       "      <td>1.5</td>\n",
       "      <td>0.2</td>\n",
       "      <td>setosa</td>\n",
       "    </tr>\n",
       "    <tr>\n",
       "      <td>66</td>\n",
       "      <td>5.6</td>\n",
       "      <td>3.0</td>\n",
       "      <td>4.5</td>\n",
       "      <td>1.5</td>\n",
       "      <td>versicolor</td>\n",
       "    </tr>\n",
       "    <tr>\n",
       "      <td>130</td>\n",
       "      <td>7.4</td>\n",
       "      <td>2.8</td>\n",
       "      <td>6.1</td>\n",
       "      <td>1.9</td>\n",
       "      <td>virginica</td>\n",
       "    </tr>\n",
       "  </tbody>\n",
       "</table>\n",
       "</div>"
      ],
      "text/plain": [
       "     sepal_length  sepal_width  petal_length  petal_width       label\n",
       "98            5.1          2.5           3.0          1.1  versicolor\n",
       "107           7.3          2.9           6.3          1.8   virginica\n",
       "10            5.4          3.7           1.5          0.2      setosa\n",
       "66            5.6          3.0           4.5          1.5  versicolor\n",
       "130           7.4          2.8           6.1          1.9   virginica"
      ]
     },
     "execution_count": 45,
     "metadata": {},
     "output_type": "execute_result"
    }
   ],
   "source": [
    "test_df.head(5)"
   ]
  },
  {
   "cell_type": "markdown",
   "metadata": {},
   "source": [
    "# Helper function\n"
   ]
  },
  {
   "cell_type": "code",
   "execution_count": 46,
   "metadata": {},
   "outputs": [
    {
     "data": {
      "text/plain": [
       "array([[5.1, 3.5, 1.4, 0.2, 'setosa'],\n",
       "       [4.9, 3.0, 1.4, 0.2, 'setosa'],\n",
       "       [4.7, 3.2, 1.3, 0.2, 'setosa'],\n",
       "       [4.6, 3.1, 1.5, 0.2, 'setosa'],\n",
       "       [5.0, 3.6, 1.4, 0.2, 'setosa']], dtype=object)"
      ]
     },
     "execution_count": 46,
     "metadata": {},
     "output_type": "execute_result"
    }
   ],
   "source": [
    "data= train_df.values #pandas data lie numpy array maa change gareko inorder to makefast\n",
    "data[:5]"
   ]
  },
  {
   "cell_type": "markdown",
   "metadata": {},
   "source": [
    "## data puring\n"
   ]
  },
  {
   "cell_type": "code",
   "execution_count": 47,
   "metadata": {},
   "outputs": [],
   "source": [
    "def check_purity(data):\n",
    "    label_column =data[:,-1]\n",
    "    unique_labelnames=np.unique(label_column)\n",
    "    \n",
    "    if len(unique_labelnames) ==1:\n",
    "     return True\n",
    "    else:\n",
    "     return False"
   ]
  },
  {
   "cell_type": "markdown",
   "metadata": {},
   "source": [
    "### classify (if true ko case maa)\n"
   ]
  },
  {
   "cell_type": "code",
   "execution_count": 48,
   "metadata": {},
   "outputs": [],
   "source": [
    "def classify_data(data):\n",
    "    label_column=data[:,-1]\n",
    "    unique_classes,counts_unique_classes=np.unique(label_column,return_counts=True) #returns labelname and counts jun cahi kati choti aako xa\n",
    "\n",
    "    index=counts_unique_classes.argmax() #largly apper vako label kun ho tyo chai 0 ko rup maa auxa\n",
    "    classification=unique_classes[index] # kun mma zero aako xa tesko name dinxa for example arr[0]maa k xa name aakko jesto \n",
    "   \n",
    "    return classification"
   ]
  },
  {
   "cell_type": "markdown",
   "metadata": {},
   "source": [
    "### potential splits"
   ]
  },
  {
   "cell_type": "code",
   "execution_count": 49,
   "metadata": {},
   "outputs": [
    {
     "data": {
      "text/html": [
       "<div>\n",
       "<style scoped>\n",
       "    .dataframe tbody tr th:only-of-type {\n",
       "        vertical-align: middle;\n",
       "    }\n",
       "\n",
       "    .dataframe tbody tr th {\n",
       "        vertical-align: top;\n",
       "    }\n",
       "\n",
       "    .dataframe thead th {\n",
       "        text-align: right;\n",
       "    }\n",
       "</style>\n",
       "<table border=\"1\" class=\"dataframe\">\n",
       "  <thead>\n",
       "    <tr style=\"text-align: right;\">\n",
       "      <th></th>\n",
       "      <th>sepal_length</th>\n",
       "      <th>sepal_width</th>\n",
       "      <th>petal_length</th>\n",
       "      <th>petal_width</th>\n",
       "      <th>label</th>\n",
       "    </tr>\n",
       "  </thead>\n",
       "  <tbody>\n",
       "    <tr>\n",
       "      <td>0</td>\n",
       "      <td>5.1</td>\n",
       "      <td>3.5</td>\n",
       "      <td>1.4</td>\n",
       "      <td>0.2</td>\n",
       "      <td>setosa</td>\n",
       "    </tr>\n",
       "    <tr>\n",
       "      <td>1</td>\n",
       "      <td>4.9</td>\n",
       "      <td>3.0</td>\n",
       "      <td>1.4</td>\n",
       "      <td>0.2</td>\n",
       "      <td>setosa</td>\n",
       "    </tr>\n",
       "    <tr>\n",
       "      <td>2</td>\n",
       "      <td>4.7</td>\n",
       "      <td>3.2</td>\n",
       "      <td>1.3</td>\n",
       "      <td>0.2</td>\n",
       "      <td>setosa</td>\n",
       "    </tr>\n",
       "    <tr>\n",
       "      <td>3</td>\n",
       "      <td>4.6</td>\n",
       "      <td>3.1</td>\n",
       "      <td>1.5</td>\n",
       "      <td>0.2</td>\n",
       "      <td>setosa</td>\n",
       "    </tr>\n",
       "    <tr>\n",
       "      <td>4</td>\n",
       "      <td>5.0</td>\n",
       "      <td>3.6</td>\n",
       "      <td>1.4</td>\n",
       "      <td>0.2</td>\n",
       "      <td>setosa</td>\n",
       "    </tr>\n",
       "  </tbody>\n",
       "</table>\n",
       "</div>"
      ],
      "text/plain": [
       "   sepal_length  sepal_width  petal_length  petal_width   label\n",
       "0           5.1          3.5           1.4          0.2  setosa\n",
       "1           4.9          3.0           1.4          0.2  setosa\n",
       "2           4.7          3.2           1.3          0.2  setosa\n",
       "3           4.6          3.1           1.5          0.2  setosa\n",
       "4           5.0          3.6           1.4          0.2  setosa"
      ]
     },
     "execution_count": 49,
     "metadata": {},
     "output_type": "execute_result"
    }
   ],
   "source": [
    "train_df.head(5)"
   ]
  },
  {
   "cell_type": "code",
   "execution_count": 50,
   "metadata": {},
   "outputs": [],
   "source": [
    "def get_potential_splits(data):\n",
    "    \n",
    "    potential_splits={}\n",
    "    _,n_columns=data.shape\n",
    "    for column_index in range(n_columns-1):\n",
    "         potential_splits[column_index]=[]\n",
    "         values=data[:,column_index]\n",
    "         unique_values=np.unique(values)\n",
    "        \n",
    "         for index in range(len(unique_values)):\n",
    "             if index!=0:\n",
    "                current_value=unique_values[index]\n",
    "                previous_value=unique_values[index-1]\n",
    "                potential_split=(current_value+previous_value)/2\n",
    "            \n",
    "                potential_splits[column_index].append(potential_split)\n",
    "            \n",
    "    return potential_splits"
   ]
  },
  {
   "cell_type": "code",
   "execution_count": 51,
   "metadata": {},
   "outputs": [],
   "source": [
    "potential_splits=get_potential_splits(train_df.values)"
   ]
  },
  {
   "cell_type": "code",
   "execution_count": 52,
   "metadata": {},
   "outputs": [
    {
     "data": {
      "text/plain": [
       "<matplotlib.collections.LineCollection at 0x1ff91deff88>"
      ]
     },
     "execution_count": 52,
     "metadata": {},
     "output_type": "execute_result"
    },
    {
     "data": {
      "image/png": "[encoded data removed]",
      "text/plain": [
       "<Figure size 732.75x432 with 1 Axes>"
      ]
     },
     "metadata": {
      "needs_background": "light"
     },
     "output_type": "display_data"
    }
   ],
   "source": [
    "sns.lmplot(data=train_df,x='petal_width',y='petal_length',hue='label',fit_reg=False,size=6,aspect=1.5)\n",
    "\n",
    "plt.vlines(x=potential_splits[3],ymin=1,ymax=7)\n",
    "#plt.hlines(y=potential_splits[2],xmin=0.2,xmax=2.5)"
   ]
  },
  {
   "cell_type": "markdown",
   "metadata": {},
   "source": [
    "# split data"
   ]
  },
  {
   "cell_type": "code",
   "execution_count": 53,
   "metadata": {},
   "outputs": [],
   "source": [
    " def split_data(data,split_column,split_value):\n",
    "        split_column_values=data[:,split_column]\n",
    "        \n",
    "        data_below=data[split_column_values<=split_value]\n",
    "        data_above=data[split_column_values>=split_value]\n",
    "        return data_below,data_above"
   ]
  },
  {
   "cell_type": "code",
   "execution_count": 54,
   "metadata": {},
   "outputs": [],
   "source": [
    "split_column=3\n",
    "split_value=0.8"
   ]
  },
  {
   "cell_type": "code",
   "execution_count": 55,
   "metadata": {},
   "outputs": [
    {
     "data": {
      "text/plain": [
       "(array([[5.1, 3.5, 1.4, 0.2, 'setosa'],\n",
       "        [4.9, 3.0, 1.4, 0.2, 'setosa'],\n",
       "        [4.7, 3.2, 1.3, 0.2, 'setosa'],\n",
       "        [4.6, 3.1, 1.5, 0.2, 'setosa'],\n",
       "        [5.0, 3.6, 1.4, 0.2, 'setosa'],\n",
       "        [5.4, 3.9, 1.7, 0.4, 'setosa'],\n",
       "        [4.6, 3.4, 1.4, 0.3, 'setosa'],\n",
       "        [5.0, 3.4, 1.5, 0.2, 'setosa'],\n",
       "        [4.4, 2.9, 1.4, 0.2, 'setosa'],\n",
       "        [4.9, 3.1, 1.5, 0.1, 'setosa'],\n",
       "        [4.8, 3.4, 1.6, 0.2, 'setosa'],\n",
       "        [4.8, 3.0, 1.4, 0.1, 'setosa'],\n",
       "        [4.3, 3.0, 1.1, 0.1, 'setosa'],\n",
       "        [5.8, 4.0, 1.2, 0.2, 'setosa'],\n",
       "        [5.7, 4.4, 1.5, 0.4, 'setosa'],\n",
       "        [5.4, 3.9, 1.3, 0.4, 'setosa'],\n",
       "        [5.1, 3.5, 1.4, 0.3, 'setosa'],\n",
       "        [5.7, 3.8, 1.7, 0.3, 'setosa'],\n",
       "        [5.1, 3.8, 1.5, 0.3, 'setosa'],\n",
       "        [5.4, 3.4, 1.7, 0.2, 'setosa'],\n",
       "        [5.1, 3.7, 1.5, 0.4, 'setosa'],\n",
       "        [4.6, 3.6, 1.0, 0.2, 'setosa'],\n",
       "        [5.1, 3.3, 1.7, 0.5, 'setosa'],\n",
       "        [5.0, 3.0, 1.6, 0.2, 'setosa'],\n",
       "        [5.0, 3.4, 1.6, 0.4, 'setosa'],\n",
       "        [5.2, 3.5, 1.5, 0.2, 'setosa'],\n",
       "        [5.2, 3.4, 1.4, 0.2, 'setosa'],\n",
       "        [4.7, 3.2, 1.6, 0.2, 'setosa'],\n",
       "        [4.8, 3.1, 1.6, 0.2, 'setosa'],\n",
       "        [5.4, 3.4, 1.5, 0.4, 'setosa'],\n",
       "        [5.2, 4.1, 1.5, 0.1, 'setosa'],\n",
       "        [5.5, 4.2, 1.4, 0.2, 'setosa'],\n",
       "        [4.9, 3.1, 1.5, 0.1, 'setosa'],\n",
       "        [5.5, 3.5, 1.3, 0.2, 'setosa'],\n",
       "        [4.4, 3.0, 1.3, 0.2, 'setosa'],\n",
       "        [5.1, 3.4, 1.5, 0.2, 'setosa'],\n",
       "        [5.0, 3.5, 1.3, 0.3, 'setosa'],\n",
       "        [4.5, 2.3, 1.3, 0.3, 'setosa'],\n",
       "        [4.4, 3.2, 1.3, 0.2, 'setosa'],\n",
       "        [5.0, 3.5, 1.6, 0.6, 'setosa'],\n",
       "        [5.1, 3.8, 1.9, 0.4, 'setosa'],\n",
       "        [4.8, 3.0, 1.4, 0.3, 'setosa'],\n",
       "        [5.1, 3.8, 1.6, 0.2, 'setosa'],\n",
       "        [4.6, 3.2, 1.4, 0.2, 'setosa'],\n",
       "        [5.3, 3.7, 1.5, 0.2, 'setosa'],\n",
       "        [5.0, 3.3, 1.4, 0.2, 'setosa']], dtype=object),\n",
       " array([[7.0, 3.2, 4.7, 1.4, 'versicolor'],\n",
       "        [6.4, 3.2, 4.5, 1.5, 'versicolor'],\n",
       "        [6.9, 3.1, 4.9, 1.5, 'versicolor'],\n",
       "        [5.5, 2.3, 4.0, 1.3, 'versicolor'],\n",
       "        [6.5, 2.8, 4.6, 1.5, 'versicolor'],\n",
       "        [6.3, 3.3, 4.7, 1.6, 'versicolor'],\n",
       "        [4.9, 2.4, 3.3, 1.0, 'versicolor'],\n",
       "        [6.6, 2.9, 4.6, 1.3, 'versicolor'],\n",
       "        [5.2, 2.7, 3.9, 1.4, 'versicolor'],\n",
       "        [5.0, 2.0, 3.5, 1.0, 'versicolor'],\n",
       "        [5.9, 3.0, 4.2, 1.5, 'versicolor'],\n",
       "        [6.0, 2.2, 4.0, 1.0, 'versicolor'],\n",
       "        [6.1, 2.9, 4.7, 1.4, 'versicolor'],\n",
       "        [6.7, 3.1, 4.4, 1.4, 'versicolor'],\n",
       "        [5.8, 2.7, 4.1, 1.0, 'versicolor'],\n",
       "        [6.2, 2.2, 4.5, 1.5, 'versicolor'],\n",
       "        [5.6, 2.5, 3.9, 1.1, 'versicolor'],\n",
       "        [5.9, 3.2, 4.8, 1.8, 'versicolor'],\n",
       "        [6.1, 2.8, 4.0, 1.3, 'versicolor'],\n",
       "        [6.1, 2.8, 4.7, 1.2, 'versicolor'],\n",
       "        [6.4, 2.9, 4.3, 1.3, 'versicolor'],\n",
       "        [6.6, 3.0, 4.4, 1.4, 'versicolor'],\n",
       "        [6.8, 2.8, 4.8, 1.4, 'versicolor'],\n",
       "        [6.0, 2.9, 4.5, 1.5, 'versicolor'],\n",
       "        [5.5, 2.4, 3.8, 1.1, 'versicolor'],\n",
       "        [5.5, 2.4, 3.7, 1.0, 'versicolor'],\n",
       "        [5.8, 2.7, 3.9, 1.2, 'versicolor'],\n",
       "        [6.0, 2.7, 5.1, 1.6, 'versicolor'],\n",
       "        [5.4, 3.0, 4.5, 1.5, 'versicolor'],\n",
       "        [6.0, 3.4, 4.5, 1.6, 'versicolor'],\n",
       "        [6.7, 3.1, 4.7, 1.5, 'versicolor'],\n",
       "        [6.3, 2.3, 4.4, 1.3, 'versicolor'],\n",
       "        [5.6, 3.0, 4.1, 1.3, 'versicolor'],\n",
       "        [5.5, 2.5, 4.0, 1.3, 'versicolor'],\n",
       "        [5.5, 2.6, 4.4, 1.2, 'versicolor'],\n",
       "        [5.8, 2.6, 4.0, 1.2, 'versicolor'],\n",
       "        [5.0, 2.3, 3.3, 1.0, 'versicolor'],\n",
       "        [5.6, 2.7, 4.2, 1.3, 'versicolor'],\n",
       "        [5.7, 3.0, 4.2, 1.2, 'versicolor'],\n",
       "        [5.7, 2.9, 4.2, 1.3, 'versicolor'],\n",
       "        [6.2, 2.9, 4.3, 1.3, 'versicolor'],\n",
       "        [5.7, 2.8, 4.1, 1.3, 'versicolor'],\n",
       "        [6.3, 3.3, 6.0, 2.5, 'virginica'],\n",
       "        [5.8, 2.7, 5.1, 1.9, 'virginica'],\n",
       "        [7.1, 3.0, 5.9, 2.1, 'virginica'],\n",
       "        [6.5, 3.0, 5.8, 2.2, 'virginica'],\n",
       "        [7.6, 3.0, 6.6, 2.1, 'virginica'],\n",
       "        [4.9, 2.5, 4.5, 1.7, 'virginica'],\n",
       "        [6.7, 2.5, 5.8, 1.8, 'virginica'],\n",
       "        [7.2, 3.6, 6.1, 2.5, 'virginica'],\n",
       "        [6.5, 3.2, 5.1, 2.0, 'virginica'],\n",
       "        [6.4, 2.7, 5.3, 1.9, 'virginica'],\n",
       "        [6.8, 3.0, 5.5, 2.1, 'virginica'],\n",
       "        [5.7, 2.5, 5.0, 2.0, 'virginica'],\n",
       "        [5.8, 2.8, 5.1, 2.4, 'virginica'],\n",
       "        [6.4, 3.2, 5.3, 2.3, 'virginica'],\n",
       "        [6.5, 3.0, 5.5, 1.8, 'virginica'],\n",
       "        [7.7, 3.8, 6.7, 2.2, 'virginica'],\n",
       "        [7.7, 2.6, 6.9, 2.3, 'virginica'],\n",
       "        [6.0, 2.2, 5.0, 1.5, 'virginica'],\n",
       "        [6.9, 3.2, 5.7, 2.3, 'virginica'],\n",
       "        [5.6, 2.8, 4.9, 2.0, 'virginica'],\n",
       "        [6.3, 2.7, 4.9, 1.8, 'virginica'],\n",
       "        [7.2, 3.2, 6.0, 1.8, 'virginica'],\n",
       "        [6.2, 2.8, 4.8, 1.8, 'virginica'],\n",
       "        [6.1, 3.0, 4.9, 1.8, 'virginica'],\n",
       "        [6.4, 2.8, 5.6, 2.1, 'virginica'],\n",
       "        [7.9, 3.8, 6.4, 2.0, 'virginica'],\n",
       "        [6.4, 2.8, 5.6, 2.2, 'virginica'],\n",
       "        [6.3, 2.8, 5.1, 1.5, 'virginica'],\n",
       "        [6.1, 2.6, 5.6, 1.4, 'virginica'],\n",
       "        [7.7, 3.0, 6.1, 2.3, 'virginica'],\n",
       "        [6.4, 3.1, 5.5, 1.8, 'virginica'],\n",
       "        [6.0, 3.0, 4.8, 1.8, 'virginica'],\n",
       "        [6.9, 3.1, 5.4, 2.1, 'virginica'],\n",
       "        [6.7, 3.1, 5.6, 2.4, 'virginica'],\n",
       "        [6.9, 3.1, 5.1, 2.3, 'virginica'],\n",
       "        [5.8, 2.7, 5.1, 1.9, 'virginica'],\n",
       "        [6.8, 3.2, 5.9, 2.3, 'virginica'],\n",
       "        [6.7, 3.3, 5.7, 2.5, 'virginica'],\n",
       "        [6.7, 3.0, 5.2, 2.3, 'virginica'],\n",
       "        [6.3, 2.5, 5.0, 1.9, 'virginica'],\n",
       "        [6.5, 3.0, 5.2, 2.0, 'virginica'],\n",
       "        [6.2, 3.4, 5.4, 2.3, 'virginica']], dtype=object))"
      ]
     },
     "execution_count": 55,
     "metadata": {},
     "output_type": "execute_result"
    }
   ],
   "source": [
    "split_data(data,split_column,split_value)"
   ]
  },
  {
   "cell_type": "code",
   "execution_count": 56,
   "metadata": {},
   "outputs": [],
   "source": [
    "data_below,data_above=split_data(data,split_column,split_value)"
   ]
  },
  {
   "cell_type": "code",
   "execution_count": 57,
   "metadata": {},
   "outputs": [
    {
     "data": {
      "text/plain": [
       "(0, 2.6)"
      ]
     },
     "execution_count": 57,
     "metadata": {},
     "output_type": "execute_result"
    },
    {
     "data": {
      "image/png": "[encoded data removed]",
      "text/plain": [
       "<Figure size 648x432 with 1 Axes>"
      ]
     },
     "metadata": {
      "needs_background": "light"
     },
     "output_type": "display_data"
    }
   ],
   "source": [
    "plotting_df=pd.DataFrame(data,columns=df.columns)\n",
    "sns.lmplot(data=plotting_df,x='petal_width',y='petal_length',fit_reg=False,size=6,aspect=1.5)\n",
    "plt.vlines(x=split_value,ymin=1,ymax=7)\n",
    "plt.xlim(0,2.6)"
   ]
  },
  {
   "cell_type": "markdown",
   "metadata": {},
   "source": [
    "# lowest overall entropy"
   ]
  },
  {
   "cell_type": "code",
   "execution_count": 58,
   "metadata": {},
   "outputs": [],
   "source": [
    "def calculate_entropy(data):\n",
    "    \n",
    "    label_column= data[:,-1]\n",
    "    _,counts=np.unique(label_column,return_counts=True)\n",
    "    \n",
    "    probabilties=counts / counts.sum()\n",
    "    entropy=sum(probabilties *-np.log2(probabilties))\n",
    "    \n",
    "    return entropy"
   ]
  },
  {
   "cell_type": "code",
   "execution_count": 59,
   "metadata": {},
   "outputs": [],
   "source": [
    "def calculate_overall_entropy(data_below,data_above):\n",
    "    \n",
    "    n_data_points=len(data_below) +len(data_above)\n",
    "    \n",
    "    p_data_below=len(data_below)/n_data_points\n",
    "    p_data_above=len(data_above)/n_data_points\n",
    "    \n",
    "    overall_entropy=(p_data_below * calculate_entropy(data_below)\n",
    "                     +p_data_above * calculate_entropy(data_above))\n",
    "    \n",
    "    return overall_entropy"
   ]
  },
  {
   "cell_type": "code",
   "execution_count": 60,
   "metadata": {},
   "outputs": [
    {
     "data": {
      "text/plain": [
       "0.6461538461538462"
      ]
     },
     "execution_count": 60,
     "metadata": {},
     "output_type": "execute_result"
    }
   ],
   "source": [
    "calculate_overall_entropy(data_below,data_above)"
   ]
  },
  {
   "cell_type": "markdown",
   "metadata": {},
   "source": [
    "# now detemining best spliit"
   ]
  },
  {
   "cell_type": "code",
   "execution_count": 61,
   "metadata": {},
   "outputs": [],
   "source": [
    "def determining_best_split(data,potential_splits):\n",
    "    \n",
    "    overall_entropy=999\n",
    "    for column_index in potential_splits:\n",
    "        for value in potential_splits[column_index]:\n",
    "            data_below,data_above=split_data(data,split_column=column_index,split_value=value)\n",
    "            current_overall_entropy=calculate_overall_entropy(data_below,data_above)\n",
    "            \n",
    "            if current_overall_entropy<= overall_entropy:\n",
    "                overall_entropy=current_overall_entropy\n",
    "                best_split_column=column_index\n",
    "                best_split_value=value\n",
    "            \n",
    "    \n",
    "    return best_split_column,best_split_value"
   ]
  },
  {
   "cell_type": "code",
   "execution_count": 62,
   "metadata": {},
   "outputs": [],
   "source": [
    "potential_splits=get_potential_splits(data)"
   ]
  },
  {
   "cell_type": "code",
   "execution_count": 63,
   "metadata": {},
   "outputs": [
    {
     "data": {
      "text/plain": [
       "(3, 0.8)"
      ]
     },
     "execution_count": 63,
     "metadata": {},
     "output_type": "execute_result"
    }
   ],
   "source": [
    "determining_best_split(data,potential_splits)"
   ]
  },
  {
   "cell_type": "markdown",
   "metadata": {},
   "source": [
    "# Decision Tree Algorithm"
   ]
  },
  {
   "cell_type": "code",
   "execution_count": 64,
   "metadata": {},
   "outputs": [],
   "source": [
    "#sub_tree={question:[yes_answer,no_answer]} #model"
   ]
  },
  {
   "cell_type": "markdown",
   "metadata": {},
   "source": [
    "# Algorithm"
   ]
  },
  {
   "cell_type": "code",
   "execution_count": 115,
   "metadata": {
    "scrolled": true
   },
   "outputs": [],
   "source": [
    "def decision_tree_algorithm(df,counter=0,min_samples=2,max_depth=5):\n",
    "    #data prepatations\n",
    "    if counter==0:\n",
    "        global COLUMN_HEADERS\n",
    "        COLUMN_HEADERS=df.columns\n",
    "        data=df.values\n",
    "    else:\n",
    "        data=df\n",
    "    #base case\n",
    "    if (check_purity(data)) or (len(data) < min_samples) or (counter==max_depth):\n",
    "        classification=classify_data(data)\n",
    "        return classification\n",
    "    #recursive part\n",
    "    else:\n",
    "        counter+=1\n",
    "        \n",
    "        #helperfunction\n",
    "        potential_splits=get_potential_splits(data)\n",
    "        split_column,split_value=determining_best_split(data,potential_splits)\n",
    "        data_below,data_above=split_data(data,split_column,split_value)\n",
    "       \n",
    "       #instantiate sub-tree\n",
    "        feature_name=COLUMN_HEADERS[split_column]\n",
    "        question=\"{} <- {}\".format(feature_name,split_value)\n",
    "        sub_tree={question:[]}\n",
    "        \n",
    "        #find answer(recursion)\n",
    "        yes_answer=decision_tree_algorithm(data_below,counter,min_samples,max_depth)  \n",
    "        no_answer=decision_tree_algorithm(data_above,counter,min_samples,max_depth)\n",
    "        \n",
    "        if yes_answer==no_answer:\n",
    "           sub_tree=yes_answer\n",
    "        else:\n",
    "            sub_tree[question].append(yes_answer)\n",
    "            sub_tree[question].append(no_answer)\n",
    "        \n",
    "        return sub_tree\n",
    "            "
   ]
  },
  {
   "cell_type": "code",
   "execution_count": 116,
   "metadata": {},
   "outputs": [
    {
     "data": {
      "text/plain": [
       "{'petal_width <- 0.8': ['setosa', {'petal_width <- 1.55': [{'petal_length <- 4.95': ['versicolor', 'virginica']}, 'virginica']}]}"
      ]
     },
     "execution_count": 116,
     "metadata": {},
     "output_type": "execute_result"
    }
   ],
   "source": [
    "tree=decision_tree_algorithm(train_df,max_depth=3)\n",
    "tree"
   ]
  },
  {
   "cell_type": "code",
   "execution_count": null,
   "metadata": {},
   "outputs": [],
   "source": []
  },
  {
   "cell_type": "markdown",
   "metadata": {},
   "source": [
    "# Classification"
   ]
  },
  {
   "cell_type": "code",
   "execution_count": 117,
   "metadata": {},
   "outputs": [],
   "source": [
    "#sub_tree={question:[yes_answer,no_answer]}"
   ]
  },
  {
   "cell_type": "code",
   "execution_count": 118,
   "metadata": {},
   "outputs": [
    {
     "data": {
      "text/plain": [
       "sepal_length          6.3\n",
       "sepal_width           2.8\n",
       "petal_length          5.1\n",
       "petal_width           1.5\n",
       "label           virginica\n",
       "Name: 133, dtype: object"
      ]
     },
     "execution_count": 118,
     "metadata": {},
     "output_type": "execute_result"
    }
   ],
   "source": [
    "example=test_df.iloc[1]\n",
    "example"
   ]
  },
  {
   "cell_type": "code",
   "execution_count": 119,
   "metadata": {},
   "outputs": [],
   "source": [
    "def classify_example(example,tree):\n",
    "    question=list(tree.keys())[0]\n",
    "    feature_name,comparision_operator,value=question.split()\n",
    "    \n",
    "    #askquestion\n",
    "    if example[feature_name]<=float(value):\n",
    "        answer=tree[question][0]\n",
    "    else:\n",
    "        answer=tree[question][1]\n",
    "        \n",
    "     #basecase\n",
    "    if not isinstance(answer,dict):\n",
    "        return answer\n",
    "    #recursivepart\n",
    "    else:\n",
    "        residual_tree=answer\n",
    "        return classify_example(example,residual_tree)\n",
    "    \n"
   ]
  },
  {
   "cell_type": "code",
   "execution_count": 120,
   "metadata": {},
   "outputs": [
    {
     "data": {
      "text/plain": [
       "'virginica'"
      ]
     },
     "execution_count": 120,
     "metadata": {},
     "output_type": "execute_result"
    }
   ],
   "source": [
    "classify_example(example,tree)"
   ]
  },
  {
   "cell_type": "markdown",
   "metadata": {},
   "source": [
    "# accuray"
   ]
  },
  {
   "cell_type": "code",
   "execution_count": 121,
   "metadata": {},
   "outputs": [],
   "source": [
    "def calculate_accuracy(df,tree):\n",
    "    #new 2 columns\n",
    "    df[\"classification\"]=df.apply(classify_example,axis=1,args=(tree,))\n",
    "    df[\"classification_correct\"]=df.classification==df.label\n",
    "    \n",
    "    accuracy=df.classification_correct.mean()\n",
    "    \n",
    "    \n",
    "    return accuracy"
   ]
  },
  {
   "cell_type": "code",
   "execution_count": 122,
   "metadata": {},
   "outputs": [
    {
     "data": {
      "text/plain": [
       "0.8"
      ]
     },
     "execution_count": 122,
     "metadata": {},
     "output_type": "execute_result"
    }
   ],
   "source": [
    "calculate_accuracy(test_df,tree)"
   ]
  },
  {
   "cell_type": "code",
   "execution_count": 123,
   "metadata": {
    "scrolled": true
   },
   "outputs": [
    {
     "name": "stdout",
     "output_type": "stream",
     "text": [
      "{'petal_width <- 0.8': ['setosa', {'petal_width <- 1.55': [{'petal_length <- 4.95': ['versicolor', 'virginica']}, 'virginica']}]}\n"
     ]
    }
   ],
   "source": [
    "print(tree)"
   ]
  },
  {
   "cell_type": "code",
   "execution_count": 127,
   "metadata": {},
   "outputs": [
    {
     "data": {
      "text/html": [
       "<div>\n",
       "<style scoped>\n",
       "    .dataframe tbody tr th:only-of-type {\n",
       "        vertical-align: middle;\n",
       "    }\n",
       "\n",
       "    .dataframe tbody tr th {\n",
       "        vertical-align: top;\n",
       "    }\n",
       "\n",
       "    .dataframe thead th {\n",
       "        text-align: right;\n",
       "    }\n",
       "</style>\n",
       "<table border=\"1\" class=\"dataframe\">\n",
       "  <thead>\n",
       "    <tr style=\"text-align: right;\">\n",
       "      <th></th>\n",
       "      <th>sepal_length</th>\n",
       "      <th>sepal_width</th>\n",
       "      <th>petal_length</th>\n",
       "      <th>petal_width</th>\n",
       "      <th>label</th>\n",
       "      <th>classification</th>\n",
       "      <th>classification_correct</th>\n",
       "    </tr>\n",
       "  </thead>\n",
       "  <tbody>\n",
       "    <tr>\n",
       "      <td>119</td>\n",
       "      <td>6.0</td>\n",
       "      <td>2.2</td>\n",
       "      <td>5.0</td>\n",
       "      <td>1.5</td>\n",
       "      <td>virginica</td>\n",
       "      <td>versicolor</td>\n",
       "      <td>False</td>\n",
       "    </tr>\n",
       "    <tr>\n",
       "      <td>10</td>\n",
       "      <td>5.4</td>\n",
       "      <td>3.7</td>\n",
       "      <td>1.5</td>\n",
       "      <td>0.2</td>\n",
       "      <td>setosa</td>\n",
       "      <td>setosa</td>\n",
       "      <td>True</td>\n",
       "    </tr>\n",
       "    <tr>\n",
       "      <td>25</td>\n",
       "      <td>5.0</td>\n",
       "      <td>3.0</td>\n",
       "      <td>1.6</td>\n",
       "      <td>0.2</td>\n",
       "      <td>setosa</td>\n",
       "      <td>setosa</td>\n",
       "      <td>True</td>\n",
       "    </tr>\n",
       "    <tr>\n",
       "      <td>100</td>\n",
       "      <td>6.3</td>\n",
       "      <td>3.3</td>\n",
       "      <td>6.0</td>\n",
       "      <td>2.5</td>\n",
       "      <td>virginica</td>\n",
       "      <td>virginica</td>\n",
       "      <td>True</td>\n",
       "    </tr>\n",
       "    <tr>\n",
       "      <td>51</td>\n",
       "      <td>6.4</td>\n",
       "      <td>3.2</td>\n",
       "      <td>4.5</td>\n",
       "      <td>1.5</td>\n",
       "      <td>versicolor</td>\n",
       "      <td>versicolor</td>\n",
       "      <td>True</td>\n",
       "    </tr>\n",
       "    <tr>\n",
       "      <td>66</td>\n",
       "      <td>5.6</td>\n",
       "      <td>3.0</td>\n",
       "      <td>4.5</td>\n",
       "      <td>1.5</td>\n",
       "      <td>versicolor</td>\n",
       "      <td>versicolor</td>\n",
       "      <td>True</td>\n",
       "    </tr>\n",
       "    <tr>\n",
       "      <td>91</td>\n",
       "      <td>6.1</td>\n",
       "      <td>3.0</td>\n",
       "      <td>4.6</td>\n",
       "      <td>1.4</td>\n",
       "      <td>versicolor</td>\n",
       "      <td>versicolor</td>\n",
       "      <td>True</td>\n",
       "    </tr>\n",
       "    <tr>\n",
       "      <td>120</td>\n",
       "      <td>6.9</td>\n",
       "      <td>3.2</td>\n",
       "      <td>5.7</td>\n",
       "      <td>2.3</td>\n",
       "      <td>virginica</td>\n",
       "      <td>virginica</td>\n",
       "      <td>True</td>\n",
       "    </tr>\n",
       "    <tr>\n",
       "      <td>145</td>\n",
       "      <td>6.7</td>\n",
       "      <td>3.0</td>\n",
       "      <td>5.2</td>\n",
       "      <td>2.3</td>\n",
       "      <td>virginica</td>\n",
       "      <td>virginica</td>\n",
       "      <td>True</td>\n",
       "    </tr>\n",
       "    <tr>\n",
       "      <td>43</td>\n",
       "      <td>5.0</td>\n",
       "      <td>3.5</td>\n",
       "      <td>1.6</td>\n",
       "      <td>0.6</td>\n",
       "      <td>setosa</td>\n",
       "      <td>setosa</td>\n",
       "      <td>True</td>\n",
       "    </tr>\n",
       "    <tr>\n",
       "      <td>52</td>\n",
       "      <td>6.9</td>\n",
       "      <td>3.1</td>\n",
       "      <td>4.9</td>\n",
       "      <td>1.5</td>\n",
       "      <td>versicolor</td>\n",
       "      <td>versicolor</td>\n",
       "      <td>True</td>\n",
       "    </tr>\n",
       "    <tr>\n",
       "      <td>14</td>\n",
       "      <td>5.8</td>\n",
       "      <td>4.0</td>\n",
       "      <td>1.2</td>\n",
       "      <td>0.2</td>\n",
       "      <td>setosa</td>\n",
       "      <td>setosa</td>\n",
       "      <td>True</td>\n",
       "    </tr>\n",
       "    <tr>\n",
       "      <td>40</td>\n",
       "      <td>5.0</td>\n",
       "      <td>3.5</td>\n",
       "      <td>1.3</td>\n",
       "      <td>0.3</td>\n",
       "      <td>setosa</td>\n",
       "      <td>setosa</td>\n",
       "      <td>True</td>\n",
       "    </tr>\n",
       "    <tr>\n",
       "      <td>41</td>\n",
       "      <td>4.5</td>\n",
       "      <td>2.3</td>\n",
       "      <td>1.3</td>\n",
       "      <td>0.3</td>\n",
       "      <td>setosa</td>\n",
       "      <td>setosa</td>\n",
       "      <td>True</td>\n",
       "    </tr>\n",
       "    <tr>\n",
       "      <td>87</td>\n",
       "      <td>6.3</td>\n",
       "      <td>2.3</td>\n",
       "      <td>4.4</td>\n",
       "      <td>1.3</td>\n",
       "      <td>versicolor</td>\n",
       "      <td>versicolor</td>\n",
       "      <td>True</td>\n",
       "    </tr>\n",
       "    <tr>\n",
       "      <td>135</td>\n",
       "      <td>7.7</td>\n",
       "      <td>3.0</td>\n",
       "      <td>6.1</td>\n",
       "      <td>2.3</td>\n",
       "      <td>virginica</td>\n",
       "      <td>virginica</td>\n",
       "      <td>True</td>\n",
       "    </tr>\n",
       "    <tr>\n",
       "      <td>64</td>\n",
       "      <td>5.6</td>\n",
       "      <td>2.9</td>\n",
       "      <td>3.6</td>\n",
       "      <td>1.3</td>\n",
       "      <td>versicolor</td>\n",
       "      <td>versicolor</td>\n",
       "      <td>True</td>\n",
       "    </tr>\n",
       "    <tr>\n",
       "      <td>30</td>\n",
       "      <td>4.8</td>\n",
       "      <td>3.1</td>\n",
       "      <td>1.6</td>\n",
       "      <td>0.2</td>\n",
       "      <td>setosa</td>\n",
       "      <td>setosa</td>\n",
       "      <td>True</td>\n",
       "    </tr>\n",
       "    <tr>\n",
       "      <td>113</td>\n",
       "      <td>5.7</td>\n",
       "      <td>2.5</td>\n",
       "      <td>5.0</td>\n",
       "      <td>2.0</td>\n",
       "      <td>virginica</td>\n",
       "      <td>virginica</td>\n",
       "      <td>True</td>\n",
       "    </tr>\n",
       "    <tr>\n",
       "      <td>44</td>\n",
       "      <td>5.1</td>\n",
       "      <td>3.8</td>\n",
       "      <td>1.9</td>\n",
       "      <td>0.4</td>\n",
       "      <td>setosa</td>\n",
       "      <td>setosa</td>\n",
       "      <td>True</td>\n",
       "    </tr>\n",
       "  </tbody>\n",
       "</table>\n",
       "</div>"
      ],
      "text/plain": [
       "     sepal_length  sepal_width  petal_length  petal_width       label  \\\n",
       "119           6.0          2.2           5.0          1.5   virginica   \n",
       "10            5.4          3.7           1.5          0.2      setosa   \n",
       "25            5.0          3.0           1.6          0.2      setosa   \n",
       "100           6.3          3.3           6.0          2.5   virginica   \n",
       "51            6.4          3.2           4.5          1.5  versicolor   \n",
       "66            5.6          3.0           4.5          1.5  versicolor   \n",
       "91            6.1          3.0           4.6          1.4  versicolor   \n",
       "120           6.9          3.2           5.7          2.3   virginica   \n",
       "145           6.7          3.0           5.2          2.3   virginica   \n",
       "43            5.0          3.5           1.6          0.6      setosa   \n",
       "52            6.9          3.1           4.9          1.5  versicolor   \n",
       "14            5.8          4.0           1.2          0.2      setosa   \n",
       "40            5.0          3.5           1.3          0.3      setosa   \n",
       "41            4.5          2.3           1.3          0.3      setosa   \n",
       "87            6.3          2.3           4.4          1.3  versicolor   \n",
       "135           7.7          3.0           6.1          2.3   virginica   \n",
       "64            5.6          2.9           3.6          1.3  versicolor   \n",
       "30            4.8          3.1           1.6          0.2      setosa   \n",
       "113           5.7          2.5           5.0          2.0   virginica   \n",
       "44            5.1          3.8           1.9          0.4      setosa   \n",
       "\n",
       "    classification  classification_correct  \n",
       "119     versicolor                   False  \n",
       "10          setosa                    True  \n",
       "25          setosa                    True  \n",
       "100      virginica                    True  \n",
       "51      versicolor                    True  \n",
       "66      versicolor                    True  \n",
       "91      versicolor                    True  \n",
       "120      virginica                    True  \n",
       "145      virginica                    True  \n",
       "43          setosa                    True  \n",
       "52      versicolor                    True  \n",
       "14          setosa                    True  \n",
       "40          setosa                    True  \n",
       "41          setosa                    True  \n",
       "87      versicolor                    True  \n",
       "135      virginica                    True  \n",
       "64      versicolor                    True  \n",
       "30          setosa                    True  \n",
       "113      virginica                    True  \n",
       "44          setosa                    True  "
      ]
     },
     "execution_count": 127,
     "metadata": {},
     "output_type": "execute_result"
    }
   ],
   "source": [
    "test_df"
   ]
  },
  {
   "cell_type": "code",
   "execution_count": 126,
   "metadata": {},
   "outputs": [
    {
     "name": "stdout",
     "output_type": "stream",
     "text": [
      "{'petal_width <- 0.75': ['setosa', {'petal_width <- 1.75': [{'petal_length <- 5.05': ['versicolor', 'virginica']}, 'virginica']}]}\n",
      "0.95\n"
     ]
    }
   ],
   "source": [
    "train_df,test_df= train_test_split(df,test_size=20) \n",
    "tree=decision_tree_algorithm(train_df,max_depth=3)\n",
    "accuracy=calculate_accuracy(test_df,tree)\n",
    "print(tree)\n",
    "print(accuracy)\n"
   ]
  },
  {
   "cell_type": "code",
   "execution_count": 128,
   "metadata": {},
   "outputs": [
    {
     "data": {
      "text/html": [
       "<div>\n",
       "<style scoped>\n",
       "    .dataframe tbody tr th:only-of-type {\n",
       "        vertical-align: middle;\n",
       "    }\n",
       "\n",
       "    .dataframe tbody tr th {\n",
       "        vertical-align: top;\n",
       "    }\n",
       "\n",
       "    .dataframe thead th {\n",
       "        text-align: right;\n",
       "    }\n",
       "</style>\n",
       "<table border=\"1\" class=\"dataframe\">\n",
       "  <thead>\n",
       "    <tr style=\"text-align: right;\">\n",
       "      <th></th>\n",
       "      <th>sepal_length</th>\n",
       "      <th>sepal_width</th>\n",
       "      <th>petal_length</th>\n",
       "      <th>petal_width</th>\n",
       "      <th>label</th>\n",
       "      <th>classification</th>\n",
       "      <th>classification_correct</th>\n",
       "    </tr>\n",
       "  </thead>\n",
       "  <tbody>\n",
       "    <tr>\n",
       "      <td>119</td>\n",
       "      <td>6.0</td>\n",
       "      <td>2.2</td>\n",
       "      <td>5.0</td>\n",
       "      <td>1.5</td>\n",
       "      <td>virginica</td>\n",
       "      <td>versicolor</td>\n",
       "      <td>False</td>\n",
       "    </tr>\n",
       "    <tr>\n",
       "      <td>10</td>\n",
       "      <td>5.4</td>\n",
       "      <td>3.7</td>\n",
       "      <td>1.5</td>\n",
       "      <td>0.2</td>\n",
       "      <td>setosa</td>\n",
       "      <td>setosa</td>\n",
       "      <td>True</td>\n",
       "    </tr>\n",
       "    <tr>\n",
       "      <td>25</td>\n",
       "      <td>5.0</td>\n",
       "      <td>3.0</td>\n",
       "      <td>1.6</td>\n",
       "      <td>0.2</td>\n",
       "      <td>setosa</td>\n",
       "      <td>setosa</td>\n",
       "      <td>True</td>\n",
       "    </tr>\n",
       "    <tr>\n",
       "      <td>100</td>\n",
       "      <td>6.3</td>\n",
       "      <td>3.3</td>\n",
       "      <td>6.0</td>\n",
       "      <td>2.5</td>\n",
       "      <td>virginica</td>\n",
       "      <td>virginica</td>\n",
       "      <td>True</td>\n",
       "    </tr>\n",
       "    <tr>\n",
       "      <td>51</td>\n",
       "      <td>6.4</td>\n",
       "      <td>3.2</td>\n",
       "      <td>4.5</td>\n",
       "      <td>1.5</td>\n",
       "      <td>versicolor</td>\n",
       "      <td>versicolor</td>\n",
       "      <td>True</td>\n",
       "    </tr>\n",
       "    <tr>\n",
       "      <td>66</td>\n",
       "      <td>5.6</td>\n",
       "      <td>3.0</td>\n",
       "      <td>4.5</td>\n",
       "      <td>1.5</td>\n",
       "      <td>versicolor</td>\n",
       "      <td>versicolor</td>\n",
       "      <td>True</td>\n",
       "    </tr>\n",
       "    <tr>\n",
       "      <td>91</td>\n",
       "      <td>6.1</td>\n",
       "      <td>3.0</td>\n",
       "      <td>4.6</td>\n",
       "      <td>1.4</td>\n",
       "      <td>versicolor</td>\n",
       "      <td>versicolor</td>\n",
       "      <td>True</td>\n",
       "    </tr>\n",
       "    <tr>\n",
       "      <td>120</td>\n",
       "      <td>6.9</td>\n",
       "      <td>3.2</td>\n",
       "      <td>5.7</td>\n",
       "      <td>2.3</td>\n",
       "      <td>virginica</td>\n",
       "      <td>virginica</td>\n",
       "      <td>True</td>\n",
       "    </tr>\n",
       "    <tr>\n",
       "      <td>145</td>\n",
       "      <td>6.7</td>\n",
       "      <td>3.0</td>\n",
       "      <td>5.2</td>\n",
       "      <td>2.3</td>\n",
       "      <td>virginica</td>\n",
       "      <td>virginica</td>\n",
       "      <td>True</td>\n",
       "    </tr>\n",
       "    <tr>\n",
       "      <td>43</td>\n",
       "      <td>5.0</td>\n",
       "      <td>3.5</td>\n",
       "      <td>1.6</td>\n",
       "      <td>0.6</td>\n",
       "      <td>setosa</td>\n",
       "      <td>setosa</td>\n",
       "      <td>True</td>\n",
       "    </tr>\n",
       "    <tr>\n",
       "      <td>52</td>\n",
       "      <td>6.9</td>\n",
       "      <td>3.1</td>\n",
       "      <td>4.9</td>\n",
       "      <td>1.5</td>\n",
       "      <td>versicolor</td>\n",
       "      <td>versicolor</td>\n",
       "      <td>True</td>\n",
       "    </tr>\n",
       "    <tr>\n",
       "      <td>14</td>\n",
       "      <td>5.8</td>\n",
       "      <td>4.0</td>\n",
       "      <td>1.2</td>\n",
       "      <td>0.2</td>\n",
       "      <td>setosa</td>\n",
       "      <td>setosa</td>\n",
       "      <td>True</td>\n",
       "    </tr>\n",
       "    <tr>\n",
       "      <td>40</td>\n",
       "      <td>5.0</td>\n",
       "      <td>3.5</td>\n",
       "      <td>1.3</td>\n",
       "      <td>0.3</td>\n",
       "      <td>setosa</td>\n",
       "      <td>setosa</td>\n",
       "      <td>True</td>\n",
       "    </tr>\n",
       "    <tr>\n",
       "      <td>41</td>\n",
       "      <td>4.5</td>\n",
       "      <td>2.3</td>\n",
       "      <td>1.3</td>\n",
       "      <td>0.3</td>\n",
       "      <td>setosa</td>\n",
       "      <td>setosa</td>\n",
       "      <td>True</td>\n",
       "    </tr>\n",
       "    <tr>\n",
       "      <td>87</td>\n",
       "      <td>6.3</td>\n",
       "      <td>2.3</td>\n",
       "      <td>4.4</td>\n",
       "      <td>1.3</td>\n",
       "      <td>versicolor</td>\n",
       "      <td>versicolor</td>\n",
       "      <td>True</td>\n",
       "    </tr>\n",
       "    <tr>\n",
       "      <td>135</td>\n",
       "      <td>7.7</td>\n",
       "      <td>3.0</td>\n",
       "      <td>6.1</td>\n",
       "      <td>2.3</td>\n",
       "      <td>virginica</td>\n",
       "      <td>virginica</td>\n",
       "      <td>True</td>\n",
       "    </tr>\n",
       "    <tr>\n",
       "      <td>64</td>\n",
       "      <td>5.6</td>\n",
       "      <td>2.9</td>\n",
       "      <td>3.6</td>\n",
       "      <td>1.3</td>\n",
       "      <td>versicolor</td>\n",
       "      <td>versicolor</td>\n",
       "      <td>True</td>\n",
       "    </tr>\n",
       "    <tr>\n",
       "      <td>30</td>\n",
       "      <td>4.8</td>\n",
       "      <td>3.1</td>\n",
       "      <td>1.6</td>\n",
       "      <td>0.2</td>\n",
       "      <td>setosa</td>\n",
       "      <td>setosa</td>\n",
       "      <td>True</td>\n",
       "    </tr>\n",
       "    <tr>\n",
       "      <td>113</td>\n",
       "      <td>5.7</td>\n",
       "      <td>2.5</td>\n",
       "      <td>5.0</td>\n",
       "      <td>2.0</td>\n",
       "      <td>virginica</td>\n",
       "      <td>virginica</td>\n",
       "      <td>True</td>\n",
       "    </tr>\n",
       "    <tr>\n",
       "      <td>44</td>\n",
       "      <td>5.1</td>\n",
       "      <td>3.8</td>\n",
       "      <td>1.9</td>\n",
       "      <td>0.4</td>\n",
       "      <td>setosa</td>\n",
       "      <td>setosa</td>\n",
       "      <td>True</td>\n",
       "    </tr>\n",
       "  </tbody>\n",
       "</table>\n",
       "</div>"
      ],
      "text/plain": [
       "     sepal_length  sepal_width  petal_length  petal_width       label  \\\n",
       "119           6.0          2.2           5.0          1.5   virginica   \n",
       "10            5.4          3.7           1.5          0.2      setosa   \n",
       "25            5.0          3.0           1.6          0.2      setosa   \n",
       "100           6.3          3.3           6.0          2.5   virginica   \n",
       "51            6.4          3.2           4.5          1.5  versicolor   \n",
       "66            5.6          3.0           4.5          1.5  versicolor   \n",
       "91            6.1          3.0           4.6          1.4  versicolor   \n",
       "120           6.9          3.2           5.7          2.3   virginica   \n",
       "145           6.7          3.0           5.2          2.3   virginica   \n",
       "43            5.0          3.5           1.6          0.6      setosa   \n",
       "52            6.9          3.1           4.9          1.5  versicolor   \n",
       "14            5.8          4.0           1.2          0.2      setosa   \n",
       "40            5.0          3.5           1.3          0.3      setosa   \n",
       "41            4.5          2.3           1.3          0.3      setosa   \n",
       "87            6.3          2.3           4.4          1.3  versicolor   \n",
       "135           7.7          3.0           6.1          2.3   virginica   \n",
       "64            5.6          2.9           3.6          1.3  versicolor   \n",
       "30            4.8          3.1           1.6          0.2      setosa   \n",
       "113           5.7          2.5           5.0          2.0   virginica   \n",
       "44            5.1          3.8           1.9          0.4      setosa   \n",
       "\n",
       "    classification  classification_correct  \n",
       "119     versicolor                   False  \n",
       "10          setosa                    True  \n",
       "25          setosa                    True  \n",
       "100      virginica                    True  \n",
       "51      versicolor                    True  \n",
       "66      versicolor                    True  \n",
       "91      versicolor                    True  \n",
       "120      virginica                    True  \n",
       "145      virginica                    True  \n",
       "43          setosa                    True  \n",
       "52      versicolor                    True  \n",
       "14          setosa                    True  \n",
       "40          setosa                    True  \n",
       "41          setosa                    True  \n",
       "87      versicolor                    True  \n",
       "135      virginica                    True  \n",
       "64      versicolor                    True  \n",
       "30          setosa                    True  \n",
       "113      virginica                    True  \n",
       "44          setosa                    True  "
      ]
     },
     "execution_count": 128,
     "metadata": {},
     "output_type": "execute_result"
    }
   ],
   "source": [
    "test_df"
   ]
  },
  {
   "cell_type": "code",
   "execution_count": 129,
   "metadata": {},
   "outputs": [
    {
     "data": {
      "text/plain": [
       "sepal_length                       6\n",
       "sepal_width                      2.2\n",
       "petal_length                       5\n",
       "petal_width                      1.5\n",
       "label                      virginica\n",
       "classification            versicolor\n",
       "classification_correct         False\n",
       "Name: 119, dtype: object"
      ]
     },
     "execution_count": 129,
     "metadata": {},
     "output_type": "execute_result"
    }
   ],
   "source": [
    "test_df.loc[119]"
   ]
  },
  {
   "cell_type": "code",
   "execution_count": 135,
   "metadata": {},
   "outputs": [
    {
     "name": "stdout",
     "output_type": "stream",
     "text": [
      "{'petal_width <- 0.75': ['setosa', {'petal_width <- 1.75': [{'petal_length <- 5.05': ['versicolor', 'virginica']}, 'virginica']}]}\n"
     ]
    }
   ],
   "source": [
    "print(tree)"
   ]
  },
  {
   "cell_type": "code",
   "execution_count": 136,
   "metadata": {},
   "outputs": [],
   "source": [
    "##finish for continuous data ko lagi matra"
   ]
  },
  {
   "cell_type": "code",
   "execution_count": null,
   "metadata": {},
   "outputs": [],
   "source": []
  }
 ],
 "metadata": {
  "kernelspec": {
   "display_name": "Python 3",
   "language": "python",
   "name": "python3"
  },
  "language_info": {
   "codemirror_mode": {
    "name": "ipython",
    "version": 3
   },
   "file_extension": ".py",
   "mimetype": "text/x-python",
   "name": "python",
   "nbconvert_exporter": "python",
   "pygments_lexer": "ipython3",
   "version": "3.7.4"
  }
 },
 "nbformat": 4,
 "nbformat_minor": 2
}
